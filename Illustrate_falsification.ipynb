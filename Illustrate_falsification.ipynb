{
 "cells": [
  {
   "cell_type": "markdown",
   "metadata": {},
   "source": [
    "## Importing the relevant packages"
   ]
  },
  {
   "cell_type": "code",
   "execution_count": 1,
   "metadata": {},
   "outputs": [
    {
     "name": "stdout",
     "output_type": "stream",
     "text": [
      "['', '/usr/lib/python36.zip', '/usr/lib/python3.6', '/usr/lib/python3.6/lib-dynload', '/home/apurva/.local/lib/python3.6/site-packages', '/usr/local/lib/python3.6/dist-packages', '/usr/lib/python3/dist-packages', '/usr/lib/python3/dist-packages/IPython/extensions', '/home/apurva/.ipython']\n",
      "/usr/bin/python3\n",
      "/home/apurva/anaconda3/envs/bbopt/bin/python\n",
      "/home/apurva/anaconda3/envs/bbopt/bin/ipython\n",
      "/home/apurva/anaconda3/envs/bbopt/bin/jupyter\n"
     ]
    }
   ],
   "source": [
    "import sys\n",
    "print(sys.path)\n",
    "print(sys.executable)\n",
    "!which python\n",
    "!which ipython\n",
    "!which jupyter"
   ]
  },
  {
   "cell_type": "code",
   "execution_count": 2,
   "metadata": {},
   "outputs": [],
   "source": [
    "import numpy as np\n",
    "import pandas as pd\n",
    "# %load_ext autoreload\n",
    "# %autoreload 2\n",
    "from sklearn.svm import SVC,SVR\n",
    "import os\n",
    "import sys\n",
    "from MFTreeSearchCV.MFTreeSearchCV import *\n",
    "from mf.mf_func import *\n"
   ]
  },
  {
   "cell_type": "markdown",
   "metadata": {},
   "source": [
    "## Just listing the contents of the main code directory"
   ]
  },
  {
   "cell_type": "code",
   "execution_count": 3,
   "metadata": {},
   "outputs": [
    {
     "name": "stdout",
     "output_type": "stream",
     "text": [
      "MFHOO.py           MFTreeSearchCV.py  \u001b[0m\u001b[34;42m__pycache__\u001b[0m/\n",
      "MFTreeFunction.py  __init__.py        converters.py\n",
      "__init__.py  temp.ipynb\n"
     ]
    }
   ],
   "source": [
    "%ls MFTreeSearchCV/\n",
    "%ls Falsification/"
   ]
  },
  {
   "cell_type": "code",
   "execution_count": 4,
   "metadata": {},
   "outputs": [],
   "source": [
    "import numpy as np\n",
    "import queue\n",
    "from mf.mf_func import MFOptFunction\n",
    "from utils.general_utils import map_to_cube\n",
    "import sys\n",
    "from examples.synthetic_functions import *\n",
    "from mf.mf_func import get_noisy_mfof_from_mfof\n",
    "import time\n",
    "from MFTreeSearchCV.MFHOO import *\n",
    "\n",
    "import examples.synthetic_functions"
   ]
  },
  {
   "cell_type": "code",
   "execution_count": 5,
   "metadata": {},
   "outputs": [],
   "source": [
    "def branin_function(x, a, b, c, r, s, t):\n",
    "    # \"\"\" Computes the Branin function. \"\"\"\n",
    "    x1 = x[0]\n",
    "    x2 = x[1]\n",
    "    neg_ret = a * (x2 - b*x1**2 + c*x1 - r)**2 + s*(1-t)*np.cos(x1) + s\n",
    "    return -neg_ret\n",
    "\n",
    "def branin_function_alpha(x, alpha, a, r, s):\n",
    "    #\"\"\" Alternative form for the branin function. \"\"\"\n",
    "    return branin_function(x, a, alpha[0], alpha[1], r, s, alpha[2])\n",
    "\n",
    "def get_mf_branin_function(fidel_dim):\n",
    "    #\"\"\" Returns the Branin function as a multifidelity function. \"\"\"\n",
    "    a0 = 1\n",
    "    b0 = 5.1/(4*np.pi**2)\n",
    "    c0 = 5/np.pi\n",
    "    r0 = 6\n",
    "    s0 = 10\n",
    "    t0 = 1/(8*np.pi)\n",
    "    alpha = np.array([b0, c0, t0])\n",
    "    # Define delta\n",
    "    delta = [0.01, 0.1, -0.005]\n",
    "    delta = np.array(delta[0:fidel_dim] + [0] * (3 - fidel_dim))\n",
    "    \n",
    "    def mf_branin_obj(z, x):\n",
    "    #\"\"\" Wrapper for the MF Branin objective. \"\"\"\n",
    "        assert len(z) == fidel_dim\n",
    "        z_extended = np.append(z, [0] * (3-fidel_dim))\n",
    "        alpha_z = alpha - (1 - z_extended) * delta\n",
    "        print(alpha_z)\n",
    "        return branin_function_alpha(x, alpha_z, a0, r0, s0)\n",
    "    \n",
    "    # Other data\n",
    "    opt_fidel = np.ones((fidel_dim))\n",
    "    fidel_bounds = [[0, 1]] * fidel_dim\n",
    "    opt_pt = np.array([np.pi, 2.275])\n",
    "    domain_bounds = [[-5, 10], [0, 15]]\n",
    "    return mf_branin_obj, opt_pt, opt_fidel, fidel_bounds, domain_bounds\n",
    "    \n",
    "def get_mf_branin_as_mfof(fidel_dim):\n",
    "#\"\"\" Wrapper for get_mf_branin_function which returns as a mfof. \"\"\"\n",
    "    mf_branin_obj, opt_pt, opt_fidel, fidel_bounds, domain_bounds = get_mf_branin_function(fidel_dim)\n",
    "    fidel_cost_function = _get_mf_cost_function(fidel_bounds, True)\n",
    "    opt_val = mf_branin_obj(opt_fidel, opt_pt)\n",
    "    return MFOptFunction(mf_branin_obj, fidel_cost_function, fidel_bounds, domain_bounds,\n",
    "                       opt_fidel, vectorised=False, opt_pt=opt_pt, opt_val=opt_val)"
   ]
  },
  {
   "cell_type": "code",
   "execution_count": 6,
   "metadata": {},
   "outputs": [
    {
     "name": "stdout",
     "output_type": "stream",
     "text": [
      "[0.12018451 1.59154943 0.03978874]\n",
      "[0.12818451 1.59154943 0.03978874]\n"
     ]
    },
    {
     "data": {
      "text/plain": [
       "-2.3956554273396637"
      ]
     },
     "execution_count": 6,
     "metadata": {},
     "output_type": "execute_result"
    }
   ],
   "source": [
    "# Testing Brannin Function:\n",
    "fidel_dim = 1\n",
    "mf_branin_obj, opt_pt, opt_fidel, fidel_bounds, domain_bounds = get_mf_branin_function(fidel_dim)\n",
    "delta = [0.01, 0.1, -0.005]\n",
    "delta = np.array(delta[0:fidel_dim] + [0] * (3 - fidel_dim))\n",
    "mf_branin_obj([0.1], [3,1])\n",
    "mf_branin_obj([0.9], [3,1])"
   ]
  },
  {
   "cell_type": "code",
   "execution_count": 7,
   "metadata": {},
   "outputs": [],
   "source": [
    "NUM_EXP = 5\n",
    "EXP_NAME = 'Branin'\n",
    "#EXP_NAME = 'CurrinExp'\n",
    "#EXP_NAME = 'Hartmann3'\n",
    "#EXP_NAME = 'Hartmann6'\n",
    "#EXP_NAME = 'Borehole'\n",
    "\n",
    "\n",
    "def run_one_experiment(mfobject,nu,rho,times,sigma,C,t0,filname):\n",
    "\tR = []\n",
    "\tT = []\n",
    "\tfor t in times:\n",
    "\t\tbudget = t*mfobject.opt_fidel_cost\n",
    "\t\tt1 = time.time()\n",
    "\t\tMP = MFPOO(mfobject=mfobject, nu_max=nu, rho_max=rho, total_budget=budget, sigma=sigma, C=C, mult=0.5, tol = 1e-3, Randomize = False, Auto = True, unit_cost=t0 )\n",
    "\t\tMP.run_all_MFHOO()\n",
    "\t\tX, E = MP.get_point()\n",
    "\t\tt2 = time.time()\t\n",
    "\n",
    "\t\tR = R + [E]\n",
    "\t\tT = T + [MP.cost]\n",
    "\t\tprint(str(MP.cost) + ' : ' + str(E))\n",
    "\t\t#print 'Total HOO Queries: ' + str(MP.t) \n",
    "\n",
    "\tnp.save(filename,R)\n",
    "\treturn np.array(R),np.array(T)\n"
   ]
  },
  {
   "cell_type": "code",
   "execution_count": 8,
   "metadata": {},
   "outputs": [],
   "source": [
    "if EXP_NAME == 'Hartmann3':\n",
    "    mfof = examples.synthetic_functions.get_mf_hartmann_as_mfof(1, 3)\n",
    "    noise_var = 0.01\n",
    "    sigma = np.sqrt(noise_var)\n",
    "\n",
    "elif EXP_NAME == 'Hartmann6':\n",
    "    mfof = examples.synthetic_functions.get_mf_hartmann_as_mfof(1, 6)\n",
    "    max_capital = 200 * mfof.opt_fidel_cost\n",
    "    noise_var = 0.05\n",
    "    sigma = np.sqrt(noise_var)\n",
    "elif EXP_NAME == 'CurrinExp':\n",
    "    mfof = examples.synthetic_functions.get_mf_currin_exp_as_mfof()\n",
    "    max_capital = 200 * mfof.opt_fidel_cost\n",
    "    noise_var = 0.5\n",
    "    sigma = np.sqrt(noise_var)\n",
    "elif EXP_NAME == 'Branin':\n",
    "    mfof = examples.synthetic_functions.get_mf_branin_as_mfof(1)\n",
    "    max_capital = 200 * mfof.opt_fidel_cost\n",
    "    noise_var = 0.05\n",
    "    sigma = np.sqrt(noise_var)\n",
    "elif EXP_NAME == 'Borehole':\n",
    "    mfof = examples.synthetic_functions.get_mf_borehole_as_mfof()\n",
    "    max_capital = 200 * mfof.opt_fidel_cost\n",
    "    noise_var = 5\n",
    "    sigma = np.sqrt(noise_var)"
   ]
  },
  {
   "cell_type": "code",
   "execution_count": null,
   "metadata": {},
   "outputs": [
    {
     "name": "stdout",
     "output_type": "stream",
     "text": [
      "Running Experiment 1: \n",
      "Auto Init: \n",
      "C: 0.8313313703582592\n",
      "nu: 0.8313313703582592\n",
      "Budget Remaining: 9.253777793884279\n",
      "Number of MFHOO Instances: 5\n",
      "Budget per MFHOO Instance:0.8507555587768557\n",
      "Running SOO number: 1 rho: 0.95 nu: 0.8313313703582592\n",
      "Done!\n",
      "Running SOO number: 2 rho: 0.9378956176563621 nu: 0.8313313703582592\n",
      "Done!\n",
      "Updating C\n",
      "C: 1.163863918501563\n",
      "nu_max: 1.163863918501563\n",
      "Running SOO number: 3 rho: 0.9180634032924686 nu: 1.163863918501563\n",
      "Done!\n",
      "Updating C\n",
      "C: 1.629409485902188\n",
      "nu_max: 1.629409485902188\n",
      "Running SOO number: 4 rho: 0.8796481896190089 nu: 1.629409485902188\n",
      "Done!\n",
      "Updating C\n",
      "C: 2.281173280263063\n",
      "nu_max: 2.281173280263063\n",
      "Running SOO number: 5 rho: 0.7737809374999998 nu: 2.281173280263063\n",
      "Done!\n",
      "Updating C\n",
      "C: 3.193642592368288\n",
      "nu_max: 3.193642592368288\n",
      "9.330126285552979 : [-0.5405371727128916, -0.5405296519642988, -0.5405371727128916, -0.5405214901684072, -0.5403576805741608]\n",
      "Auto Init: \n",
      "C: 0.8313313703582592\n",
      "nu: 0.8313313703582592\n",
      "Budget Remaining: 19.25390653991699\n",
      "Number of MFHOO Instances: 10\n",
      "Budget per MFHOO Instance:0.925390653991699\n",
      "Running SOO number: 1 rho: 0.95 nu: 0.8313313703582592\n",
      "Done!\n",
      "Running SOO number: 2 rho: 0.9446011072613543 nu: 0.8313313703582592\n",
      "Done!\n",
      "Updating C\n",
      "C: 1.163863918501563\n",
      "nu_max: 1.163863918501563\n",
      "Running SOO number: 3 rho: 0.9378956176563621 nu: 1.163863918501563\n",
      "Done!\n",
      "Updating C\n",
      "C: 1.629409485902188\n",
      "nu_max: 1.629409485902188\n",
      "Running SOO number: 4 rho: 0.9293441702879052 nu: 1.629409485902188\n",
      "Done!\n",
      "Updating C\n",
      "C: 2.281173280263063\n",
      "nu_max: 2.281173280263063\n",
      "Running SOO number: 5 rho: 0.9180634032924686 nu: 2.281173280263063\n",
      "Done!\n",
      "Updating C\n",
      "C: 3.193642592368288\n",
      "nu_max: 3.193642592368288\n",
      "Running SOO number: 6 rho: 0.9025 nu: 3.193642592368288\n",
      "Done!\n",
      "Updating C\n",
      "C: 4.471099629315603\n",
      "nu_max: 4.471099629315603\n",
      "Running SOO number: 7 rho: 0.8796481896190089 nu: 4.471099629315603\n",
      "Done!\n",
      "Running SOO number: 8 rho: 0.8428404124649498 nu: 4.471099629315603\n",
      "Done!\n",
      "Running SOO number: 9 rho: 0.7737809374999998 nu: 4.471099629315603\n",
      "Done!\n",
      "Running SOO number: 10 rho: 0.5987369392383787 nu: 4.471099629315603\n",
      "Done!\n",
      "19.379805326461792 : [-0.5405469869151052, -0.5405371727128916, -0.5405371727128916, -0.5405371727128916, -0.5408650143545586, -0.5408474073630316, -0.5408474073630316, -0.5405208487902975, -0.5403582076962845, -0.5402353290694375]\n",
      "Auto Init: \n",
      "C: 0.8313313703582592\n",
      "nu: 0.8313313703582592\n",
      "Budget Remaining: 49.253788761138914\n",
      "Number of MFHOO Instances: 16\n",
      "Budget per MFHOO Instance:2.078361797571182\n",
      "Running SOO number: 1 rho: 0.95 nu: 0.8313313703582592\n",
      "Done!\n",
      "Running SOO number: 2 rho: 0.9467569727007391 nu: 0.8313313703582592\n",
      "Done!\n",
      "Updating C\n",
      "C: 1.163863918501563\n",
      "nu_max: 1.163863918501563\n",
      "Running SOO number: 3 rho: 0.943064209619936 nu: 1.163863918501563\n",
      "Done!\n",
      "Updating C\n",
      "C: 1.629409485902188\n",
      "nu_max: 1.629409485902188\n",
      "Running SOO number: 4 rho: 0.9388212232486434 nu: 1.629409485902188\n",
      "Done!\n",
      "Updating C\n",
      "C: 2.281173280263063\n",
      "nu_max: 2.281173280263063\n",
      "Running SOO number: 5 rho: 0.9338951938669805 nu: 2.281173280263063\n",
      "Done!\n",
      "Updating C\n",
      "C: 3.193642592368288\n",
      "nu_max: 3.193642592368288\n",
      "Running SOO number: 6 rho: 0.9281068356493957 nu: 3.193642592368288\n",
      "Done!\n",
      "Updating C\n",
      "C: 4.471099629315603\n",
      "nu_max: 4.471099629315603\n",
      "Running SOO number: 7 rho: 0.9212081434582966 nu: 4.471099629315603\n",
      "Done!\n",
      "Running SOO number: 8 rho: 0.912846007669677 nu: 4.471099629315603\n",
      "Done!\n",
      "Running SOO number: 9 rho: 0.9025 nu: 4.471099629315603\n",
      "Done!\n",
      "Running SOO number: 10 rho: 0.8893701034660746 nu: 4.471099629315603\n",
      "Done!\n",
      "Running SOO number: 11 rho: 0.8721602331278452 nu: 4.471099629315603\n",
      "Done!\n",
      "Running SOO number: 12 rho: 0.8486244435738817 nu: 4.471099629315603\n",
      "Done!\n",
      "Running SOO number: 13 rho: 0.8145062499999999 nu: 4.471099629315603\n",
      "Done!\n",
      "Running SOO number: 14 rho: 0.7606634722496172 nu: 4.471099629315603\n",
      "Done!\n",
      "Running SOO number: 15 rho: 0.6634204312890623 nu: 4.471099629315603\n"
     ]
    }
   ],
   "source": [
    "times = [10,20,50,75,100,150,175, 200]\n",
    "mfobject = get_noisy_mfof_from_mfof(mfof, noise_var)\n",
    "nu = 1.0\n",
    "rho = 0.95\n",
    "C = 0.1\n",
    "t0 = mfobject.opt_fidel_costmfobject = get_noisy_mfof_from_mfof(mfof, noise_var)\n",
    "nu = 1.0\n",
    "rho = 0.95\n",
    "C = 0.1\n",
    "t0 = mfobject.opt_fidel_cost\n",
    "\n",
    "NT = str(time.time())\n",
    "print('Running Experiment 1: ')\n",
    "filename = 'MFHOO' + EXP_NAME + '_' + NT + '_' + '1.npy'\n",
    "R,T = run_one_experiment(mfobject,nu,rho,times,sigma,C,t0,filename)\n",
    "result = R\n",
    "\n",
    "for i in range(1,NUM_EXP):\n",
    "    print('Running Experiment' + str(i+1) + ': ')\n",
    "    filename = 'MFHOO' + EXP_NAME + '_' + NT + '_' + str(i+1) + '.npy'\n",
    "    R,T = run_one_experiment(mfobject,nu,rho,times,sigma,C,t0,filename)\n",
    "    result = np.vstack([result,R])\n",
    "\n",
    "mu = np.mean(result,axis = 0)\n",
    "std = np.std(result,axis = 0)\n",
    "result = mfobject.opt_val - mu\n",
    "filename = './examples/results/MFHOO_' + EXP_NAME + '_' + NT + '_' + '.csv'\n",
    "dfdic = {}\n",
    "dfdic['Capital'] = np.array(times)\n",
    "dfdic['Value'] = result\n",
    "dfdic['Std'] = std\n",
    "df = pd.DataFrame(dfdic)\n",
    "df.to_csv(filename) \n",
    "\n",
    "NT = str(time.time())\n",
    "print('Running Experiment 1: ')\n",
    "filename = 'MFHOO' + EXP_NAME + '_' + NT + '_' + '1.npy'\n",
    "R,T = run_one_experiment(mfobject,nu,rho,times,sigma,C,t0,filename)\n",
    "result = R\n",
    "\n",
    "for i in range(1,NUM_EXP):\n",
    "    print('Running Experiment' + str(i+1) + ': ')\n",
    "    filename = 'MFHOO' + EXP_NAME + '_' + NT + '_' + str(i+1) + '.npy'\n",
    "    R,T = run_one_experiment(mfobject,nu,rho,times,sigma,C,t0,filename)\n",
    "    result = np.vstack([result,R])\n",
    "\n",
    "\n",
    "mu = np.mean(result,axis = 0)\n",
    "std = np.std(result,axis = 0)\n",
    "result = mfobject.opt_val - mu\n",
    "filename = './examples/results/MFHOO_' + EXP_NAME + '_' + NT + '_' + '.csv'\n",
    "dfdic = {}\n",
    "dfdic['Capital'] = np.array(times)\n",
    "dfdic['Value'] = result\n",
    "dfdic['Std'] = std\n",
    "df = pd.DataFrame(dfdic)\n",
    "df.to_csv(filename) "
   ]
  },
  {
   "cell_type": "markdown",
   "metadata": {},
   "source": [
    "## Setting up Branin function experiment\n",
    "- Definitions of Brannin function given above. \n"
   ]
  },
  {
   "cell_type": "markdown",
   "metadata": {},
   "source": [
    "## Fetching mountain car dataset\n",
    "- We will use the RSV dataset for the mountain car example "
   ]
  },
  {
   "cell_type": "code",
   "execution_count": null,
   "metadata": {},
   "outputs": [],
   "source": []
  },
  {
   "cell_type": "markdown",
   "metadata": {},
   "source": [
    "## Constructing approximations of the Robust Satisfaction Value function\n",
    "- Deriving the training data for mountain car"
   ]
  },
  {
   "cell_type": "code",
   "execution_count": null,
   "metadata": {},
   "outputs": [],
   "source": []
  },
  {
   "cell_type": "code",
   "execution_count": null,
   "metadata": {},
   "outputs": [],
   "source": [
    "estimator = LogisticRegression() #base estimator\n",
    " param_dict = {'C' : {'range': [1e-2,1e2], 'type': 'real', 'scale': 'linear'}, \\\n",
    "               'kernel' : {'range': [ 'linear', 'poly', 'rbf', 'sigmoid'], 'type': 'cat'}\n",
    "param_dict = {'C':{'range':[1e-5,1e5],'scale':'log','type':'real'},\\\n",
    "              'penalty':{'range':['l1','l2'],'scale':'linear','type':'cat'}} #parameter space\n",
    "fidelity_range = [500,15076] # fidelity range, lowest fidelity uses 500 samples while the highest one uses \n",
    "#the whole dataset  \n",
    "n_jobs = 3 # number of jobs\n",
    "cv = 3 # cv level\n",
    "fixed_params = {}\n",
    "scoring = 'accuracy'"
   ]
  },
  {
   "cell_type": "markdown",
   "metadata": {},
   "source": [
    "## Budget\n",
    "- We set the total budget as 100 secs\n",
    "- This is may be only 3-4 times the budget required to do one single training and CV using the whole data-set"
   ]
  },
  {
   "cell_type": "code",
   "execution_count": null,
   "metadata": {},
   "outputs": [],
   "source": [
    "t1 = time.time()\n",
    "estimator = estimator.fit(X_train,y_train)\n",
    "t2 = time.time()\n",
    "total_budget = 100 # total budget in seconds\n",
    "print('Time without CV: ', t2 - t1)"
   ]
  },
  {
   "cell_type": "markdown",
   "metadata": {},
   "source": [
    "## Creating an instance of the class"
   ]
  },
  {
   "cell_type": "code",
   "execution_count": null,
   "metadata": {},
   "outputs": [],
   "source": [
    "model = MFTreeSearchCV(estimator=estimator,param_dict=param_dict,scoring=scoring,\\\n",
    "                      fidelity_range=fidelity_range,unit_cost=None,\\\n",
    "                    cv=cv,  n_jobs = n_jobs,total_budget=total_budget,debug = True,fixed_params=fixed_params)\n",
    "\n",
    "## running in debug mode will display certain outputs"
   ]
  },
  {
   "cell_type": "markdown",
   "metadata": {},
   "source": [
    "## Fitting the model or choosing the best parameter\n",
    "- Note that refit = true, which means at the end the training is done at the best parameter"
   ]
  },
  {
   "cell_type": "code",
   "execution_count": null,
   "metadata": {},
   "outputs": [],
   "source": [
    "m = model.fit(X_train,y_train)"
   ]
  },
  {
   "cell_type": "markdown",
   "metadata": {},
   "source": [
    "## Predicting using the best model, then scoring it and then displaying the best_params_"
   ]
  },
  {
   "cell_type": "code",
   "execution_count": null,
   "metadata": {},
   "outputs": [],
   "source": [
    "y_pred = m.predict(X_test)"
   ]
  },
  {
   "cell_type": "code",
   "execution_count": null,
   "metadata": {},
   "outputs": [],
   "source": [
    "accuracy_score(y_pred,y_test)"
   ]
  },
  {
   "cell_type": "code",
   "execution_count": null,
   "metadata": {},
   "outputs": [],
   "source": [
    "m.best_params_"
   ]
  },
  {
   "cell_type": "code",
   "execution_count": null,
   "metadata": {},
   "outputs": [],
   "source": [
    "m.cv_results_"
   ]
  },
  {
   "cell_type": "code",
   "execution_count": null,
   "metadata": {},
   "outputs": [],
   "source": []
  }
 ],
 "metadata": {
  "kernelspec": {
   "display_name": "Python 3",
   "language": "python",
   "name": "python3"
  },
  "language_info": {
   "codemirror_mode": {
    "name": "ipython",
    "version": 3
   },
   "file_extension": ".py",
   "mimetype": "text/x-python",
   "name": "python",
   "nbconvert_exporter": "python",
   "pygments_lexer": "ipython3",
   "version": "3.6.9"
  }
 },
 "nbformat": 4,
 "nbformat_minor": 2
}
