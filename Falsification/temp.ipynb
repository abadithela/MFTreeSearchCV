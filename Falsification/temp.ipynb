{
 "cells": [
  {
   "cell_type": "code",
   "execution_count": 7,
   "metadata": {},
   "outputs": [
    {
     "ename": "ModuleNotFoundError",
     "evalue": "No module named '__main__.mf'; '__main__' is not a package",
     "output_type": "error",
     "traceback": [
      "\u001b[0;31m---------------------------------------------------------------------------\u001b[0m",
      "\u001b[0;31mModuleNotFoundError\u001b[0m                       Traceback (most recent call last)",
      "\u001b[0;32m<ipython-input-7-6e0be0efc939>\u001b[0m in \u001b[0;36m<module>\u001b[0;34m()\u001b[0m\n\u001b[1;32m      1\u001b[0m \u001b[0;32mimport\u001b[0m \u001b[0mnumpy\u001b[0m \u001b[0;32mas\u001b[0m \u001b[0mnp\u001b[0m\u001b[0;34m\u001b[0m\u001b[0;34m\u001b[0m\u001b[0m\n\u001b[1;32m      2\u001b[0m \u001b[0;32mimport\u001b[0m \u001b[0mqueue\u001b[0m\u001b[0;34m\u001b[0m\u001b[0;34m\u001b[0m\u001b[0m\n\u001b[0;32m----> 3\u001b[0;31m \u001b[0;32mfrom\u001b[0m \u001b[0;34m.\u001b[0m\u001b[0mmf\u001b[0m\u001b[0;34m.\u001b[0m\u001b[0mmf_func\u001b[0m \u001b[0;32mimport\u001b[0m \u001b[0mMFOptFunction\u001b[0m\u001b[0;34m\u001b[0m\u001b[0;34m\u001b[0m\u001b[0m\n\u001b[0m\u001b[1;32m      4\u001b[0m \u001b[0;32mfrom\u001b[0m \u001b[0;34m.\u001b[0m\u001b[0mutils\u001b[0m\u001b[0;34m.\u001b[0m\u001b[0mgeneral_utils\u001b[0m \u001b[0;32mimport\u001b[0m \u001b[0mmap_to_cube\u001b[0m\u001b[0;34m\u001b[0m\u001b[0;34m\u001b[0m\u001b[0m\n\u001b[1;32m      5\u001b[0m \u001b[0;32mimport\u001b[0m \u001b[0msys\u001b[0m\u001b[0;34m\u001b[0m\u001b[0;34m\u001b[0m\u001b[0m\n",
      "\u001b[0;31mModuleNotFoundError\u001b[0m: No module named '__main__.mf'; '__main__' is not a package"
     ]
    }
   ],
   "source": [
    "import numpy as np\n",
    "import queue\n",
    "from mf.mf_func import MFOptFunction\n",
    "from utils.general_utils import map_to_cube\n",
    "import sys\n",
    "from examples.synthetic_functions import *\n",
    "from mf.mf_func import get_noisy_mfof_from_mfof\n",
    "from letters.letters_classifier import *\n",
    "import time\n",
    "from MFTreeSearchCV.POO import *\n",
    "\n",
    "import synthetic_functions"
   ]
  },
  {
   "cell_type": "code",
   "execution_count": 3,
   "metadata": {},
   "outputs": [],
   "source": [
    "def branin_function(x, a, b, c, r, s, t):\n",
    "  \"\"\" Computes the Branin function. \"\"\"\n",
    "  x1 = x[0]\n",
    "  x2 = x[1]\n",
    "  neg_ret = a * (x2 - b*x1**2 + c*x1 - r)**2 + s*(1-t)*np.cos(x1) + s\n",
    "  return -neg_ret\n",
    "\n",
    "def branin_function_alpha(x, alpha, a, r, s):\n",
    "  \"\"\" Alternative form for the branin function. \"\"\"\n",
    "  return branin_function(x, a, alpha[0], alpha[1], r, s, alpha[2])\n",
    "\n",
    "def get_mf_branin_function(fidel_dim):\n",
    "  \"\"\" Returns the Branin function as a multifidelity function. \"\"\"\n",
    "  a0 = 1\n",
    "  b0 = 5.1/(4*np.pi**2)\n",
    "  c0 = 5/np.pi\n",
    "  r0 = 6\n",
    "  s0 = 10\n",
    "  t0 = 1/(8*np.pi)\n",
    "  alpha = np.array([b0, c0, t0])\n",
    "  # Define delta\n",
    "  delta = [0.01, 0.1, -0.005]\n",
    "  delta = np.array(delta[0:fidel_dim] + [0] * (3 - fidel_dim))\n",
    "\n",
    "  def mf_branin_obj(z, x):\n",
    "    \"\"\" Wrapper for the MF Branin objective. \"\"\"\n",
    "    assert len(z) == fidel_dim\n",
    "    z_extended = np.append(z, [0] * (3-fidel_dim))\n",
    "    alpha_z = alpha - (1 - z_extended) * delta\n",
    "    return branin_function_alpha(x, alpha_z, a0, r0, s0)\n",
    "  # Other data\n",
    "  opt_fidel = np.ones((fidel_dim))\n",
    "  fidel_bounds = [[0, 1]] * fidel_dim\n",
    "  opt_pt = np.array([np.pi, 2.275])\n",
    "  domain_bounds = [[-5, 10], [0, 15]]\n",
    "  return mf_branin_obj, opt_pt, opt_fidel, fidel_bounds, domain_bounds\n",
    "\n",
    "def get_mf_branin_as_mfof(fidel_dim):\n",
    "  \"\"\" Wrapper for get_mf_branin_function which returns as a mfof. \"\"\"\n",
    "  mf_branin_obj, opt_pt, opt_fidel, fidel_bounds, domain_bounds = \\\n",
    "    get_mf_branin_function(fidel_dim)\n",
    "  fidel_cost_function = _get_mf_cost_function(fidel_bounds, True)\n",
    "  opt_val = mf_branin_obj(opt_fidel, opt_pt)\n",
    "  return MFOptFunction(mf_branin_obj, fidel_cost_function, fidel_bounds, domain_bounds,\n",
    "                       opt_fidel, vectorised=False, opt_pt=opt_pt, opt_val=opt_val)"
   ]
  },
  {
   "cell_type": "code",
   "execution_count": 9,
   "metadata": {},
   "outputs": [],
   "source": [
    "NUM_EXP = 5\n",
    "EXP_NAME = 'Branin'\n",
    "#EXP_NAME = 'CurrinExp'\n",
    "#EXP_NAME = 'Hartmann3'\n",
    "#EXP_NAME = 'Hartmann6'\n",
    "#EXP_NAME = 'Borehole'\n",
    "\n",
    "\n",
    "def run_one_experiment(mfobject,nu,rho,times,sigma,C,t0,filname):\n",
    "\tR = []\n",
    "\tT = []\n",
    "\tfor t in times:\n",
    "\t\tbudget = t*mfobject.opt_fidel_cost\n",
    "\t\tt1 = time.time()\n",
    "\t\tMP = POO(mfobject=mfobject, nu_max=nu, rho_max=rho, total_budget=budget, sigma=sigma, C=C, mult=0.5, tol = 1e-3, Randomize = False, Auto = False, unit_cost=t0 )\n",
    "\t\tMP.run_all_MFHOO()\n",
    "\t\tX, E = MP.get_point()\n",
    "\t\tt2 = time.time()\t\n",
    "\n",
    "\t\tR = R + [E]\n",
    "\t\tT = T + [MP.cost]\n",
    "\t\t#print 'Total HOO Queries: ' + str(MP.t) \n",
    "\t\tprint(str(MP.cost) + ' : ' + str(E))\n",
    "\n",
    "\tnp.save(filename,R)\n",
    "\treturn np.array(R),np.array(T)\n"
   ]
  },
  {
   "cell_type": "code",
   "execution_count": 10,
   "metadata": {},
   "outputs": [
    {
     "ename": "NameError",
     "evalue": "name 'synthetic_functions' is not defined",
     "output_type": "error",
     "traceback": [
      "\u001b[0;31m---------------------------------------------------------------------------\u001b[0m",
      "\u001b[0;31mNameError\u001b[0m                                 Traceback (most recent call last)",
      "\u001b[0;32m<ipython-input-10-734d135f0077>\u001b[0m in \u001b[0;36m<module>\u001b[0;34m()\u001b[0m\n\u001b[1;32m     15\u001b[0m     \u001b[0msigma\u001b[0m \u001b[0;34m=\u001b[0m \u001b[0mnp\u001b[0m\u001b[0;34m.\u001b[0m\u001b[0msqrt\u001b[0m\u001b[0;34m(\u001b[0m\u001b[0mnoise_var\u001b[0m\u001b[0;34m)\u001b[0m\u001b[0;34m\u001b[0m\u001b[0;34m\u001b[0m\u001b[0m\n\u001b[1;32m     16\u001b[0m \u001b[0;32melif\u001b[0m \u001b[0mEXP_NAME\u001b[0m \u001b[0;34m==\u001b[0m \u001b[0;34m'Branin'\u001b[0m\u001b[0;34m:\u001b[0m\u001b[0;34m\u001b[0m\u001b[0;34m\u001b[0m\u001b[0m\n\u001b[0;32m---> 17\u001b[0;31m     \u001b[0mmfof\u001b[0m \u001b[0;34m=\u001b[0m \u001b[0msynthetic_functions\u001b[0m\u001b[0;34m.\u001b[0m\u001b[0mget_mf_branin_as_mfof\u001b[0m\u001b[0;34m(\u001b[0m\u001b[0;36m1\u001b[0m\u001b[0;34m)\u001b[0m\u001b[0;34m\u001b[0m\u001b[0;34m\u001b[0m\u001b[0m\n\u001b[0m\u001b[1;32m     18\u001b[0m     \u001b[0mmax_capital\u001b[0m \u001b[0;34m=\u001b[0m \u001b[0;36m200\u001b[0m \u001b[0;34m*\u001b[0m \u001b[0mmfof\u001b[0m\u001b[0;34m.\u001b[0m\u001b[0mopt_fidel_cost\u001b[0m\u001b[0;34m\u001b[0m\u001b[0;34m\u001b[0m\u001b[0m\n\u001b[1;32m     19\u001b[0m     \u001b[0mnoise_var\u001b[0m \u001b[0;34m=\u001b[0m \u001b[0;36m0.05\u001b[0m\u001b[0;34m\u001b[0m\u001b[0;34m\u001b[0m\u001b[0m\n",
      "\u001b[0;31mNameError\u001b[0m: name 'synthetic_functions' is not defined"
     ]
    }
   ],
   "source": [
    "if EXP_NAME == 'Hartmann3':\n",
    "    mfof = synthetic_functions.get_mf_hartmann_as_mfof(1, 3)\n",
    "    noise_var = 0.01\n",
    "    sigma = np.sqrt(noise_var)\n",
    "\n",
    "elif EXP_NAME == 'Hartmann6':\n",
    "    mfof = synthetic_functions.get_mf_hartmann_as_mfof(1, 6)\n",
    "    max_capital = 200 * mfof.opt_fidel_cost\n",
    "    noise_var = 0.05\n",
    "    sigma = np.sqrt(noise_var)\n",
    "elif EXP_NAME == 'CurrinExp':\n",
    "    mfof = synthetic_functions.get_mf_currin_exp_as_mfof()\n",
    "    max_capital = 200 * mfof.opt_fidel_cost\n",
    "    noise_var = 0.5\n",
    "    sigma = np.sqrt(noise_var)\n",
    "elif EXP_NAME == 'Branin':\n",
    "    mfof = synthetic_functions.get_mf_branin_as_mfof(1)\n",
    "    max_capital = 200 * mfof.opt_fidel_cost\n",
    "    noise_var = 0.05\n",
    "    sigma = np.sqrt(noise_var)\n",
    "elif EXP_NAME == 'Borehole':\n",
    "    mfof = synthetic_functions.get_mf_borehole_as_mfof()\n",
    "    max_capital = 200 * mfof.opt_fidel_cost\n",
    "    noise_var = 5\n",
    "    sigma = np.sqrt(noise_var)"
   ]
  },
  {
   "cell_type": "code",
   "execution_count": null,
   "metadata": {},
   "outputs": [],
   "source": []
  }
 ],
 "metadata": {
  "kernelspec": {
   "display_name": "Python 3",
   "language": "python",
   "name": "python3"
  },
  "language_info": {
   "codemirror_mode": {
    "name": "ipython",
    "version": 3
   },
   "file_extension": ".py",
   "mimetype": "text/x-python",
   "name": "python",
   "nbconvert_exporter": "python",
   "pygments_lexer": "ipython3",
   "version": "3.6.9"
  }
 },
 "nbformat": 4,
 "nbformat_minor": 2
}
