{
 "cells": [
  {
   "cell_type": "code",
   "execution_count": null,
   "metadata": {},
   "outputs": [],
   "source": []
  },
  {
   "cell_type": "code",
   "execution_count": 7,
   "metadata": {},
   "outputs": [
    {
     "name": "stdout",
     "output_type": "stream",
     "text": [
      "The autoreload extension is already loaded. To reload it, use:\n",
      "  %reload_ext autoreload\n"
     ]
    }
   ],
   "source": [
    "import numpy as np\n",
    "import pandas as pd\n",
    "%load_ext autoreload\n",
    "%autoreload 2\n",
    "from sklearn.svm import SVC,SVR\n",
    "import os\n",
    "import sys\n",
    "from MFTreeSearchCV.MFTreeSearchCV import *\n",
    "from mf.mf_func import *\n",
    "from sklearn.model_selection import train_test_split\n",
    "from sklearn.feature_extraction.text import TfidfVectorizer\n",
    "import xgboost as xgb\n",
    "from sklearn.linear_model import LogisticRegression"
   ]
  },
  {
   "cell_type": "code",
   "execution_count": 8,
   "metadata": {},
   "outputs": [
    {
     "name": "stdout",
     "output_type": "stream",
     "text": [
      "converters.py   __init__.pyc  MFTreeFunction.py   MFTreeSearchCV.pyc\r\n",
      "converters.pyc  MFHOO.py      MFTreeFunction.pyc  \u001b[0m\u001b[01;34m__pycache__\u001b[0m/\r\n",
      "__init__.py     MFHOO.pyc     MFTreeSearchCV.py\r\n"
     ]
    }
   ],
   "source": [
    "%ls MFTreeSearchCV/"
   ]
  },
  {
   "cell_type": "code",
   "execution_count": 9,
   "metadata": {},
   "outputs": [],
   "source": [
    "from sklearn.datasets import load_digits,load_boston,fetch_20newsgroups\n",
    "data = load_boston()"
   ]
  },
  {
   "cell_type": "code",
   "execution_count": 10,
   "metadata": {},
   "outputs": [],
   "source": [
    "newsgroups_train = fetch_20newsgroups(subset='all')\n",
    "vectorizer = TfidfVectorizer()\n",
    "features = vectorizer.fit_transform(newsgroups_train.data)\n",
    "labels = newsgroups_train.target\n",
    "#features =features.todense()"
   ]
  },
  {
   "cell_type": "code",
   "execution_count": 11,
   "metadata": {},
   "outputs": [
    {
     "data": {
      "text/plain": [
       "(15076, 173762)"
      ]
     },
     "execution_count": 11,
     "metadata": {},
     "output_type": "execute_result"
    }
   ],
   "source": [
    "X = features\n",
    "y = labels\n",
    "X_train, X_test, y_train, y_test = train_test_split(X, y, test_size=0.2, random_state=42)\n",
    "X_train.shape"
   ]
  },
  {
   "cell_type": "code",
   "execution_count": 16,
   "metadata": {},
   "outputs": [],
   "source": [
    "estimator = LogisticRegression() #base estimator\n",
    "param_dict = {'C':{'range':[1e-5,1e5],'scale':'log','type':'real'},\\\n",
    "              'penalty':{'range':['l1','l2'],'scale':'linear','type':'cat'}} #parameter space\n",
    "fidelity_range = [500,15076] # fidelity range, lowest fidelity uses 500 samples while the highest one uses \n",
    "#the whole dataset  \n",
    "n_jobs = 3 # number of jobs\n",
    "cv = 3 # cv level\n",
    "fixed_params = {}\n",
    "scoring = 'accuracy'"
   ]
  },
  {
   "cell_type": "code",
   "execution_count": 18,
   "metadata": {},
   "outputs": [
    {
     "name": "stdout",
     "output_type": "stream",
     "text": [
      "('Time without CV: ', 13.485359907150269)\n"
     ]
    }
   ],
   "source": [
    "t1 = time.time()\n",
    "estimator = estimator.fit(X_train,y_train)\n",
    "t2 = time.time()\n",
    "total_budget = 500 # total budget in seconds\n",
    "print('Time without CV: ', t2 - t1)"
   ]
  },
  {
   "cell_type": "code",
   "execution_count": 19,
   "metadata": {},
   "outputs": [],
   "source": [
    "model = MFTreeSearchCV(estimator=estimator,param_dict=param_dict,scoring=scoring,\\\n",
    "                      fidelity_range=fidelity_range,unit_cost=None,\\\n",
    "                    cv=cv,  n_jobs = n_jobs,total_budget=total_budget,debug = True,fixed_params=fixed_params)\n",
    "\n",
    "## running in debug mode will display certain outputs"
   ]
  },
  {
   "cell_type": "code",
   "execution_count": 20,
   "metadata": {},
   "outputs": [
    {
     "name": "stdout",
     "output_type": "stream",
     "text": [
      "Setting unit cost automatically as None was supplied\n",
      "Unit Cost:  13.0087919235\n",
      "Auto Init: \n",
      "C: 0.21970734557131216\n",
      "nu: 0.21970734557131216\n",
      "Budget Remaining: 481.698515857\n",
      "Number of MFHOO Instances: 6\n",
      "Budget per MFHOO Instance:67.2742940527\n",
      "Running SOO number: 1 rho: 0.95 nu: 0.21970734557131216\n",
      "Done!\n",
      "Running SOO number: 2 rho: 0.940304092603 nu: 0.21970734557131216\n",
      "Done!\n",
      "Updating C\n",
      "C: 0.307590283799837\n",
      "nu_max: 0.307590283799837\n",
      "Running SOO number: 3 rho: 0.925945462757 nu: 0.307590283799837\n",
      "Done!\n",
      "Updating C\n",
      "C: 0.43062639731977176\n",
      "nu_max: 0.43062639731977176\n",
      "Running SOO number: 4 rho: 0.9025 nu: 0.43062639731977176\n",
      "Done!\n",
      "Updating C\n",
      "C: 0.6028769562476805\n",
      "nu_max: 0.6028769562476805\n",
      "Running SOO number: 5 rho: 0.857375 nu: 0.6028769562476805\n",
      "Done!\n",
      "Updating C\n",
      "C: 0.8440277387467526\n",
      "nu_max: 0.8440277387467526\n",
      "Running SOO number: 6 rho: 0.735091890625 nu: 0.8440277387467526\n",
      "Done!\n"
     ]
    }
   ],
   "source": [
    "m = model.fit(X_train,y_train)"
   ]
  },
  {
   "cell_type": "code",
   "execution_count": 22,
   "metadata": {},
   "outputs": [],
   "source": [
    "y_pred = m.predict(X_test)"
   ]
  },
  {
   "cell_type": "code",
   "execution_count": 23,
   "metadata": {},
   "outputs": [
    {
     "data": {
      "text/plain": [
       "0.9259946949602123"
      ]
     },
     "execution_count": 23,
     "metadata": {},
     "output_type": "execute_result"
    }
   ],
   "source": [
    "accuracy_score(y_pred,y_test)"
   ]
  },
  {
   "cell_type": "code",
   "execution_count": 24,
   "metadata": {},
   "outputs": [
    {
     "data": {
      "text/plain": [
       "{'C': 5623.413251903499, 'penalty': 'l2'}"
      ]
     },
     "execution_count": 24,
     "metadata": {},
     "output_type": "execute_result"
    }
   ],
   "source": [
    "m.best_params_"
   ]
  },
  {
   "cell_type": "code",
   "execution_count": 25,
   "metadata": {},
   "outputs": [
    {
     "data": {
      "text/html": [
       "<div>\n",
       "<style scoped>\n",
       "    .dataframe tbody tr th:only-of-type {\n",
       "        vertical-align: middle;\n",
       "    }\n",
       "\n",
       "    .dataframe tbody tr th {\n",
       "        vertical-align: top;\n",
       "    }\n",
       "\n",
       "    .dataframe thead th {\n",
       "        text-align: right;\n",
       "    }\n",
       "</style>\n",
       "<table border=\"1\" class=\"dataframe\">\n",
       "  <thead>\n",
       "    <tr style=\"text-align: right;\">\n",
       "      <th></th>\n",
       "      <th>params</th>\n",
       "      <th>score</th>\n",
       "    </tr>\n",
       "  </thead>\n",
       "  <tbody>\n",
       "    <tr>\n",
       "      <th>0</th>\n",
       "      <td>{u'penalty': u'l2', u'C': 23713.73705661653}</td>\n",
       "      <td>0.950717</td>\n",
       "    </tr>\n",
       "    <tr>\n",
       "      <th>1</th>\n",
       "      <td>{u'penalty': u'l2', u'C': 74.98942093324557}</td>\n",
       "      <td>0.950448</td>\n",
       "    </tr>\n",
       "    <tr>\n",
       "      <th>2</th>\n",
       "      <td>{u'penalty': u'l2', u'C': 5623.413251903499}</td>\n",
       "      <td>0.949528</td>\n",
       "    </tr>\n",
       "    <tr>\n",
       "      <th>3</th>\n",
       "      <td>{u'penalty': u'l2', u'C': 5623.413251903499}</td>\n",
       "      <td>0.951048</td>\n",
       "    </tr>\n",
       "    <tr>\n",
       "      <th>4</th>\n",
       "      <td>{u'penalty': u'l2', u'C': 5623.413251903499}</td>\n",
       "      <td>0.947862</td>\n",
       "    </tr>\n",
       "    <tr>\n",
       "      <th>5</th>\n",
       "      <td>{u'penalty': u'l2', u'C': 5623.413251903499}</td>\n",
       "      <td>0.949723</td>\n",
       "    </tr>\n",
       "  </tbody>\n",
       "</table>\n",
       "</div>"
      ],
      "text/plain": [
       "                                         params     score\n",
       "0  {u'penalty': u'l2', u'C': 23713.73705661653}  0.950717\n",
       "1  {u'penalty': u'l2', u'C': 74.98942093324557}  0.950448\n",
       "2  {u'penalty': u'l2', u'C': 5623.413251903499}  0.949528\n",
       "3  {u'penalty': u'l2', u'C': 5623.413251903499}  0.951048\n",
       "4  {u'penalty': u'l2', u'C': 5623.413251903499}  0.947862\n",
       "5  {u'penalty': u'l2', u'C': 5623.413251903499}  0.949723"
      ]
     },
     "execution_count": 25,
     "metadata": {},
     "output_type": "execute_result"
    }
   ],
   "source": [
    "m.cv_results_"
   ]
  },
  {
   "cell_type": "code",
   "execution_count": null,
   "metadata": {},
   "outputs": [],
   "source": []
  }
 ],
 "metadata": {
  "kernelspec": {
   "display_name": "Python 3",
   "language": "python",
   "name": "python3"
  },
  "language_info": {
   "codemirror_mode": {
    "name": "ipython",
    "version": 2
   },
   "file_extension": ".py",
   "mimetype": "text/x-python",
   "name": "python",
   "nbconvert_exporter": "python",
   "pygments_lexer": "ipython2",
   "version": "2.7.15rc1"
  }
 },
 "nbformat": 4,
 "nbformat_minor": 2
}
